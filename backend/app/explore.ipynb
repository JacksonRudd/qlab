{
 "cells": [
  {
   "cell_type": "code",
   "execution_count": 1,
   "metadata": {},
   "outputs": [
    {
     "ename": "SyntaxError",
     "evalue": "invalid syntax (1529385575.py, line 23)",
     "output_type": "error",
     "traceback": [
      "\u001b[1;36m  Cell \u001b[1;32mIn[1], line 23\u001b[1;36m\u001b[0m\n\u001b[1;33m    ai_answer = chat_completion.\u001b[0m\n\u001b[1;37m                                ^\u001b[0m\n\u001b[1;31mSyntaxError\u001b[0m\u001b[1;31m:\u001b[0m invalid syntax\n"
     ]
    }
   ],
   "source": [
    "\n",
    "# Read the API key from the config.json file\n",
    "\n",
    "\n",
    "\n",
    "def question(topic):\n",
    "    # You can use the 'topic' parameter in your function\n",
    "    return {'content': f'Question about {topic}'}\n",
    "\n",
    "\n",
    "def answer(question, answer):\n",
    "    # Use the OpenAI API to answer the question\n",
    "    chat_completion = client.chat.completions.create(\n",
    "        messages=[\n",
    "            {\n",
    "                \"role\": \"user\",\n",
    "                \"content\": \"Say this is a test\",\n",
    "            }\n",
    "        ],\n",
    "        model=\"gpt-3.5-turbo\",\n",
    "    )\n",
    "\n",
    "    # Extract the AI-generated answer from the API response\n",
    "    ai_answer = chat_completion.\n",
    "\n",
    "    # You can implement your own logic to determine if the answer is correct\n",
    "    # For now, let's assume it's always correct\n",
    "    is_correct = True\n",
    "\n",
    "    return jsonify({'is_correct': is_correct, 'explanation': f'AI Answer: {ai_answer}'})\n",
    "\n",
    "if __name__ == '__main__':\n",
    "    app.run(host='0.0.0.0', port=8080, debug=True)\n"
   ]
  },
  {
   "cell_type": "code",
   "execution_count": 1,
   "metadata": {},
   "outputs": [],
   "source": [
    "\n",
    "import json\n",
    "from openai import OpenAI\n",
    "import os\n",
    "\n",
    "# Get the current directory of the script\n",
    "\n",
    "# Construct the path to the config.json file\n",
    "config_file_path = os.path.join('./', 'secret.json')\n",
    "\n",
    "with open(config_file_path, 'r') as config_file:\n",
    "    config = json.load(config_file)\n",
    "    client = OpenAI(api_key=config['openai_api_key'])\n"
   ]
  },
  {
   "cell_type": "code",
   "execution_count": 31,
   "metadata": {},
   "outputs": [],
   "source": [
    "\n",
    "\n",
    "\n",
    "def answer(question, answer) :   \n",
    "\n",
    "\n",
    "    chat_completion = client.chat.completions.create(\n",
    "            messages = [\n",
    "              {\n",
    "                  \"role\": \"system\",\n",
    "                  \"content\": \"Your job is to grade the student's answers to questions. When you respond, please first reply with either 'CORRECT' or 'INCORRECT' to indicate if the student's answer is correct or incorrect, and then explain why.\"\n",
    "              },\n",
    "              {\n",
    "                  \"role\": \"user\",\n",
    "                  \"content\": \"QUESTION:\\nWho won the World Series in 2020?\\nANSWER:\\nThe Los Angeles Dodgers\"\n",
    "              },\n",
    "              {\n",
    "                  \"role\": \"assistant\",\n",
    "                  \"content\": \"CORRECT\\nThe Los Angeles Dodgers won the World Series in 2020. They defeated the Tampa Bay Rays in a six-game series to capture their first World Series championship since 1988.\"\n",
    "              },\n",
    "              {\n",
    "                  \"role\": \"user\",\n",
    "                  \"content\": \"QUESTION:\\nWhat is the capital of France?\\nANSWER:\\nThe capital of France is Paris.\"\n",
    "              },\n",
    "              {\n",
    "                  \"role\": \"assistant\",\n",
    "                  \"content\": \"CORRECT\\nThe capital of France is indeed Paris. It is known for its iconic landmarks such as the Eiffel Tower, Louvre Museum, and Notre-Dame Cathedral.\"\n",
    "              },\n",
    "\n",
    "              {\n",
    "                  \"role\": \"user\",\n",
    "                  \"content\": f\"QUESTION:\\n{question}\\nANSWER:{answer}\"\n",
    "              },\n",
    "          ],\n",
    "            model=\"gpt-3.5-turbo\",\n",
    "        )\n",
    "    answer = chat_completion.choices[0].message.content\n",
    "    is_correct = answer.contains('INCORRECT')\n",
    "    explanation = answer.replace('INCORRECT', '').replace(\"CORRECT\", '')"
   ]
  },
  {
   "cell_type": "code",
   "execution_count": 32,
   "metadata": {},
   "outputs": [
    {
     "data": {
      "text/plain": [
       "\"CORRECT\\nThe British monarch who was forced to sign the Magna Carta in 1215 was indeed King John. King John's reign was marked by conflict with his barons, which ultimately led to the signing of the Magna Carta at Runnymede.\""
      ]
     },
     "execution_count": 32,
     "metadata": {},
     "output_type": "execute_result"
    }
   ],
   "source": [
    "\n",
    "answer('What was the name of the British monarch who was forced to sign the Magna Carta in 1215?', 'King John')"
   ]
  },
  {
   "cell_type": "code",
   "execution_count": null,
   "metadata": {},
   "outputs": [],
   "source": [
    "answer"
   ]
  }
 ],
 "metadata": {
  "kernelspec": {
   "display_name": "venv",
   "language": "python",
   "name": "python3"
  },
  "language_info": {
   "codemirror_mode": {
    "name": "ipython",
    "version": 3
   },
   "file_extension": ".py",
   "mimetype": "text/x-python",
   "name": "python",
   "nbconvert_exporter": "python",
   "pygments_lexer": "ipython3",
   "version": "3.11.1"
  }
 },
 "nbformat": 4,
 "nbformat_minor": 2
}
